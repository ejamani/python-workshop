{
 "cells": [
  {
   "cell_type": "markdown",
   "metadata": {},
   "source": [
    "- oops\n",
    "- regular expressions\n",
    "- files\n",
    "- malplotib\n"
   ]
  },
  {
   "cell_type": "markdown",
   "metadata": {},
   "source": [
    "- object oriented programing\n",
    "- object: Interms of class\n",
    "   -its properties(variables) and actions(methods)\n",
    "- class:\n",
    "  -collection of variables and methods(functions)\n",
    "- syntax:\n",
    "  -class ClassName:\n",
    "    #variables\n",
    "    #methods\n",
    "    "
   ]
  },
  {
   "cell_type": "code",
   "execution_count": 2,
   "metadata": {},
   "outputs": [],
   "source": [
    "class Student:\n",
    "    pass"
   ]
  },
  {
   "cell_type": "code",
   "execution_count": 4,
   "metadata": {},
   "outputs": [],
   "source": [
    "# to create a object:\n",
    "#syntax:\n",
    " #var = ClassName()"
   ]
  },
  {
   "cell_type": "code",
   "execution_count": 5,
   "metadata": {},
   "outputs": [],
   "source": [
    "class Student:\n",
    "    x = 10\n",
    "    y = 20"
   ]
  },
  {
   "cell_type": "code",
   "execution_count": 7,
   "metadata": {},
   "outputs": [
    {
     "data": {
      "text/plain": [
       "20"
      ]
     },
     "execution_count": 7,
     "metadata": {},
     "output_type": "execute_result"
    }
   ],
   "source": [
    "Student().x\n",
    "Student().y"
   ]
  },
  {
   "cell_type": "code",
   "execution_count": 8,
   "metadata": {},
   "outputs": [
    {
     "data": {
      "text/plain": [
       "10"
      ]
     },
     "execution_count": 8,
     "metadata": {},
     "output_type": "execute_result"
    }
   ],
   "source": [
    "Student().x\n",
    "Student().y\n",
    "s = Student()\n",
    "s.x"
   ]
  },
  {
   "cell_type": "code",
   "execution_count": 23,
   "metadata": {},
   "outputs": [
    {
     "name": "stdout",
     "output_type": "stream",
     "text": [
      "enter name of the student:Mahesh\n",
      "hello! Mahesh\n",
      "x\n",
      "y\n"
     ]
    }
   ],
   "source": [
    "class Student:\n",
    "    x = 10\n",
    "    y = 20\n",
    "    def Display(self):\n",
    "        name = input('enter name of the student:')\n",
    "        print('hello!',name)\n",
    "        print('x')\n",
    "        print('y')\n",
    "s = Student()\n",
    "s.Display()"
   ]
  },
  {
   "cell_type": "code",
   "execution_count": 25,
   "metadata": {},
   "outputs": [],
   "source": [
    "# constructor\n",
    "# syntax\n",
    "#__init__(self)\n",
    "  #statements\n",
    "    "
   ]
  },
  {
   "cell_type": "code",
   "execution_count": 43,
   "metadata": {},
   "outputs": [],
   "source": [
    "class Cse:\n",
    "    sections = 3\n",
    "    year = 2\n",
    "    def __init__(self):\n",
    "        print('this is constructor')\n",
    "    def Details(self):\n",
    "        print('hello {} year having {} sections'.format(Cse.year,Cse.sections))\n",
    "    "
   ]
  },
  {
   "cell_type": "code",
   "execution_count": 44,
   "metadata": {},
   "outputs": [
    {
     "name": "stdout",
     "output_type": "stream",
     "text": [
      "this is constructor\n",
      "hello 2 year having 3 sections\n"
     ]
    }
   ],
   "source": [
    "c = Cse()\n",
    "c.Details()"
   ]
  },
  {
   "cell_type": "code",
   "execution_count": 52,
   "metadata": {},
   "outputs": [],
   "source": [
    "class Cse:\n",
    "    def __init__(self,sections,year):\n",
    "        print('this is constructor')\n",
    "        self.sections = sections\n",
    "        self.year = year\n",
    "    def Details(self):\n",
    "        print('hello {} year having {} sections'.format(self.year,self.sections))\n",
    "    "
   ]
  },
  {
   "cell_type": "code",
   "execution_count": 53,
   "metadata": {},
   "outputs": [
    {
     "name": "stdout",
     "output_type": "stream",
     "text": [
      "this is constructor\n",
      "hello 2 year having 3 sections\n"
     ]
    }
   ],
   "source": [
    "c = Cse(3,2)\n",
    "c.Details()"
   ]
  },
  {
   "cell_type": "code",
   "execution_count": 54,
   "metadata": {},
   "outputs": [],
   "source": [
    "### to know whether the programm obeys OOPs concepts\n",
    "# there are three steps\n",
    "# 1.Inheritance\n",
    "# 2.polymorphism\n",
    "# 3.abstraction\n",
    "\n",
    "#1.Inheritance:\n",
    "   # getting the properties from parent class to child class\n",
    "     #we will check in two ways\n",
    "        #1.has a relation\n",
    "        #2.is a relation"
   ]
  },
  {
   "cell_type": "code",
   "execution_count": 69,
   "metadata": {
    "scrolled": true
   },
   "outputs": [
    {
     "name": "stdout",
     "output_type": "stream",
     "text": [
      "10\n",
      "20\n",
      "30\n",
      "parent method..\n",
      "None\n"
     ]
    }
   ],
   "source": [
    "# as a relation\n",
    "class Parent:\n",
    "    x = 10\n",
    "    y = 20\n",
    "    def M1(self):\n",
    "        print('parent method..')\n",
    "class Child:\n",
    "    z = 30\n",
    "    def __init__(self):\n",
    "        self.Parent = Parent()\n",
    "    def M2(self):\n",
    "            print(self.Parent.x)\n",
    "            print(self.Parent.y)\n",
    "            print(Child().z)\n",
    "            print(self.Parent.M1())\n",
    "c = Child()\n",
    "c.M2()"
   ]
  },
  {
   "cell_type": "code",
   "execution_count": 75,
   "metadata": {},
   "outputs": [
    {
     "name": "stdout",
     "output_type": "stream",
     "text": [
      "class B Method..\n",
      "class A Method\n"
     ]
    }
   ],
   "source": [
    "# is a relation\n",
    "\n",
    "class A:\n",
    "    x = 20\n",
    "    y = 30\n",
    "    def M1(self):\n",
    "        print('class A Method')\n",
    "class B(A):\n",
    "    z = 40\n",
    "    def M2(self):\n",
    "        print('class B Method..')\n",
    "obj = B()\n",
    "obj.x\n",
    "obj.y\n",
    "obj.z\n",
    "obj.M2()\n",
    "obj.M1()\n",
    "        "
   ]
  },
  {
   "cell_type": "code",
   "execution_count": 84,
   "metadata": {},
   "outputs": [
    {
     "ename": "AttributeError",
     "evalue": "type object 'Subchild' has no attribute 'name2'",
     "output_type": "error",
     "traceback": [
      "\u001b[1;31m---------------------------------------------------------------------------\u001b[0m",
      "\u001b[1;31mAttributeError\u001b[0m                            Traceback (most recent call last)",
      "\u001b[1;32m<ipython-input-84-374ea5083ccb>\u001b[0m in \u001b[0;36m<module>\u001b[1;34m\u001b[0m\n\u001b[0;32m     22\u001b[0m         \u001b[0mprint\u001b[0m\u001b[1;33m(\u001b[0m\u001b[0ms\u001b[0m\u001b[1;33m.\u001b[0m\u001b[0mm3\u001b[0m\u001b[1;33m)\u001b[0m\u001b[1;33m\u001b[0m\u001b[1;33m\u001b[0m\u001b[0m\n\u001b[0;32m     23\u001b[0m \u001b[0ms\u001b[0m \u001b[1;33m=\u001b[0m \u001b[0mSubchild\u001b[0m\u001b[1;33m(\u001b[0m\u001b[1;33m)\u001b[0m\u001b[1;33m\u001b[0m\u001b[1;33m\u001b[0m\u001b[0m\n\u001b[1;32m---> 24\u001b[1;33m \u001b[0ms\u001b[0m\u001b[1;33m.\u001b[0m\u001b[0mm3\u001b[0m\u001b[1;33m(\u001b[0m\u001b[1;33m)\u001b[0m\u001b[1;33m\u001b[0m\u001b[1;33m\u001b[0m\u001b[0m\n\u001b[0m",
      "\u001b[1;32m<ipython-input-84-374ea5083ccb>\u001b[0m in \u001b[0;36mm3\u001b[1;34m(self)\u001b[0m\n\u001b[0;32m     14\u001b[0m     \u001b[0msection\u001b[0m\u001b[1;33m=\u001b[0m\u001b[1;34m'b section'\u001b[0m\u001b[1;33m\u001b[0m\u001b[1;33m\u001b[0m\u001b[0m\n\u001b[0;32m     15\u001b[0m     \u001b[1;32mdef\u001b[0m \u001b[0mm3\u001b[0m\u001b[1;33m(\u001b[0m\u001b[0mself\u001b[0m\u001b[1;33m)\u001b[0m\u001b[1;33m:\u001b[0m\u001b[1;33m\u001b[0m\u001b[1;33m\u001b[0m\u001b[0m\n\u001b[1;32m---> 16\u001b[1;33m         \u001b[0mprint\u001b[0m\u001b[1;33m(\u001b[0m\u001b[1;34m'hello'\u001b[0m\u001b[1;33m,\u001b[0m\u001b[0mSubchild\u001b[0m\u001b[1;33m.\u001b[0m\u001b[0mname2\u001b[0m\u001b[1;33m,\u001b[0m\u001b[1;34m'welcome to'\u001b[0m\u001b[1;33m,\u001b[0m\u001b[0mSubchild\u001b[0m\u001b[1;33m.\u001b[0m\u001b[0msection\u001b[0m\u001b[1;33m)\u001b[0m\u001b[1;33m\u001b[0m\u001b[1;33m\u001b[0m\u001b[0m\n\u001b[0m\u001b[0;32m     17\u001b[0m         \u001b[0mprint\u001b[0m\u001b[1;33m(\u001b[0m\u001b[0ms\u001b[0m\u001b[1;33m.\u001b[0m\u001b[0mname\u001b[0m\u001b[1;33m)\u001b[0m\u001b[1;33m\u001b[0m\u001b[1;33m\u001b[0m\u001b[0m\n\u001b[0;32m     18\u001b[0m         \u001b[0mprint\u001b[0m\u001b[1;33m(\u001b[0m\u001b[0ms\u001b[0m\u001b[1;33m.\u001b[0m\u001b[0mname1\u001b[0m\u001b[1;33m)\u001b[0m\u001b[1;33m\u001b[0m\u001b[1;33m\u001b[0m\u001b[0m\n",
      "\u001b[1;31mAttributeError\u001b[0m: type object 'Subchild' has no attribute 'name2'"
     ]
    }
   ],
   "source": [
    "# Multi Level inheritance\n",
    "class Parent():\n",
    "    name=\"divya\"\n",
    "    section='b section'\n",
    "    def m1(self):\n",
    "        print('hello',Parent.name,'welcome to',Parent.section)\n",
    "class Child():\n",
    "    name1='poojitha'\n",
    "    section='b section'\n",
    "    def m2(self):\n",
    "        print('hello',Child.name1,'welcome to',Child.section)\n",
    "class Subchild():\n",
    "    name2:'kousalya'\n",
    "    section='b section'\n",
    "    def m3(self):\n",
    "        print('hello',Subchild.name2,'welcome to',Subchild.section)\n",
    "        print(s.name)\n",
    "        print(s.name1)\n",
    "        print(s.name2)\n",
    "        print(s.m1)\n",
    "        print(s.m2)\n",
    "        print(s.m3)\n",
    "s = Subchild()\n",
    "s.m3() "
   ]
  },
  {
   "cell_type": "markdown",
   "metadata": {},
   "source": [
    "# regular expressions\n",
    "## regular expressons are using patterns\n",
    "## by using regular expression in python we can use one module i..e import **re**\n",
    "## regular expression syntax-->modulename.methodname(patterrn,values or variable names)\n",
    " "
   ]
  },
  {
   "cell_type": "markdown",
   "metadata": {},
   "source": [
    "## methods\n",
    "- search\n",
    "\n",
    "- match\n",
    "\n",
    "- findall \n",
    "\n",
    "## patterns\n",
    "- ^\n",
    "\n",
    "- $\n",
    "\n",
    "- .\n",
    "\n",
    "- +\n",
    "\n",
    "- *\n",
    "\n",
    "- \\e\n",
    "\n",
    "- \\E\n",
    "\n",
    "- \\D\n",
    "\n",
    "- \\s\n",
    "\n",
    "- \\S\n",
    "\n",
    "- \\w\n",
    "\n",
    "- \\W\n",
    "\n",
    "- "
   ]
  },
  {
   "cell_type": "markdown",
   "metadata": {},
   "source": [
    "^    matches THE BEGINNING OF A LINE\n",
    "$    matches THE END OF THE LINE\n",
    ".    matches ANY CHARACTER\n",
    "\\s   matches whitespace\n",
    "\\S   matches any non whitespace dcharacter\n",
    "*    repeats a character zero or more times\n",
    "*?   repeats a character zero or more lines (non-greed)\n",
    "+    repeats a character one or moree times\n",
    "+?   repeats a character one or more times (non-greed)\n",
    "[aeiou]  matches a single character in the listed set\n",
    "[^XYZ]   matches a single character not in the listed set\n",
    "[a=z0-9] the set of characters can include a range\n",
    "(   indicates where string extractiono is to start\n",
    ")   indicates where string extraction is to end\n",
    "W   matches special characters(!,@,#,$,%<^<&<*,)\n",
    "e   matches digits\n",
    "E   matches\n",
    "\n",
    " "
   ]
  },
  {
   "cell_type": "code",
   "execution_count": 5,
   "metadata": {},
   "outputs": [],
   "source": [
    "import re"
   ]
  },
  {
   "cell_type": "raw",
   "metadata": {},
   "source": []
  },
  {
   "cell_type": "code",
   "execution_count": null,
   "metadata": {},
   "outputs": [],
   "source": []
  },
  {
   "cell_type": "code",
   "execution_count": null,
   "metadata": {},
   "outputs": [],
   "source": []
  },
  {
   "cell_type": "code",
   "execution_count": null,
   "metadata": {},
   "outputs": [],
   "source": []
  },
  {
   "cell_type": "code",
   "execution_count": null,
   "metadata": {},
   "outputs": [],
   "source": []
  },
  {
   "cell_type": "code",
   "execution_count": null,
   "metadata": {},
   "outputs": [],
   "source": []
  },
  {
   "cell_type": "code",
   "execution_count": null,
   "metadata": {},
   "outputs": [],
   "source": []
  },
  {
   "cell_type": "code",
   "execution_count": null,
   "metadata": {},
   "outputs": [],
   "source": []
  },
  {
   "cell_type": "code",
   "execution_count": null,
   "metadata": {},
   "outputs": [],
   "source": []
  },
  {
   "cell_type": "code",
   "execution_count": null,
   "metadata": {},
   "outputs": [],
   "source": []
  },
  {
   "cell_type": "code",
   "execution_count": null,
   "metadata": {},
   "outputs": [],
   "source": []
  },
  {
   "cell_type": "code",
   "execution_count": null,
   "metadata": {},
   "outputs": [],
   "source": []
  },
  {
   "cell_type": "code",
   "execution_count": null,
   "metadata": {},
   "outputs": [],
   "source": []
  },
  {
   "cell_type": "code",
   "execution_count": null,
   "metadata": {},
   "outputs": [],
   "source": []
  },
  {
   "cell_type": "code",
   "execution_count": null,
   "metadata": {},
   "outputs": [],
   "source": []
  },
  {
   "cell_type": "code",
   "execution_count": null,
   "metadata": {},
   "outputs": [],
   "source": []
  },
  {
   "cell_type": "code",
   "execution_count": null,
   "metadata": {},
   "outputs": [],
   "source": []
  }
 ],
 "metadata": {
  "kernelspec": {
   "display_name": "Python 3",
   "language": "python",
   "name": "python3"
  },
  "language_info": {
   "codemirror_mode": {
    "name": "ipython",
    "version": 3
   },
   "file_extension": ".py",
   "mimetype": "text/x-python",
   "name": "python",
   "nbconvert_exporter": "python",
   "pygments_lexer": "ipython3",
   "version": "3.8.5"
  }
 },
 "nbformat": 4,
 "nbformat_minor": 4
}
