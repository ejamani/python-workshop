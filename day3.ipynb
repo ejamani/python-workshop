{
 "cells": [
  {
   "cell_type": "code",
   "execution_count": 5,
   "metadata": {},
   "outputs": [
    {
     "name": "stdout",
     "output_type": "stream",
     "text": [
      "hello worldhello worldhello worldhello worldhello worldhello worldhello worldhello worldhello worldhello world\n"
     ]
    }
   ],
   "source": [
    "print('hello world' *10)"
   ]
  },
  {
   "cell_type": "code",
   "execution_count": 9,
   "metadata": {},
   "outputs": [
    {
     "name": "stdout",
     "output_type": "stream",
     "text": [
      "Hello world\n",
      "Hello world\n",
      "Hello world\n",
      "Hello world\n",
      "Hello world\n",
      "Hello world\n",
      "Hello world\n",
      "Hello world\n",
      "Hello world\n",
      "Hello world\n"
     ]
    }
   ],
   "source": [
    "for var in range(0,10,1):\n",
    "     print(\"Hello world\")"
   ]
  },
  {
   "cell_type": "code",
   "execution_count": 10,
   "metadata": {},
   "outputs": [
    {
     "name": "stdout",
     "output_type": "stream",
     "text": [
      "0\n",
      "1\n",
      "2\n",
      "3\n",
      "4\n",
      "5\n",
      "6\n",
      "7\n",
      "8\n",
      "9\n"
     ]
    }
   ],
   "source": [
    "for i in range(10):\n",
    "      print(i)"
   ]
  },
  {
   "cell_type": "code",
   "execution_count": 20,
   "metadata": {},
   "outputs": [
    {
     "name": "stdout",
     "output_type": "stream",
     "text": [
      "0\t2\t4\t6\t8\t10\t"
     ]
    }
   ],
   "source": [
    "for i in range(10+1):\n",
    "    if (i%2==0):\n",
    "        print(i,end='\\t') "
   ]
  },
  {
   "cell_type": "code",
   "execution_count": 30,
   "metadata": {},
   "outputs": [
    {
     "name": "stdout",
     "output_type": "stream",
     "text": [
      "enter table number:2\n",
      "enter table length:2\n",
      "2 * 1 = 2\n",
      "2 * 2 = 4\n"
     ]
    }
   ],
   "source": [
    "\n",
    "\n",
    "t = int(input('enter table number:'))\n",
    "l = int(input('enter table length:'))\n",
    "for i in range(1,l+1):\n",
    "         print('{} * {} = {}'.format(t,i,t*i))\n",
    "        "
   ]
  },
  {
   "cell_type": "code",
   "execution_count": 40,
   "metadata": {},
   "outputs": [
    {
     "name": "stdout",
     "output_type": "stream",
     "text": [
      "enter number:5\n",
      "1 5 "
     ]
    }
   ],
   "source": [
    "# factors of a number\n",
    "\n",
    "n=int(input('enter number:'))\n",
    "for i in range(1,10):\n",
    "    if (n%i == 0):\n",
    "        print(i,end=' ')\n"
   ]
  },
  {
   "cell_type": "code",
   "execution_count": 51,
   "metadata": {},
   "outputs": [
    {
     "ename": "SyntaxError",
     "evalue": "invalid syntax (<ipython-input-51-424230868dd8>, line 7)",
     "output_type": "error",
     "traceback": [
      "\u001b[1;36m  File \u001b[1;32m\"<ipython-input-51-424230868dd8>\"\u001b[1;36m, line \u001b[1;32m7\u001b[0m\n\u001b[1;33m    print('result'f_s)\u001b[0m\n\u001b[1;37m                  ^\u001b[0m\n\u001b[1;31mSyntaxError\u001b[0m\u001b[1;31m:\u001b[0m invalid syntax\n"
     ]
    }
   ],
   "source": [
    "n=int(input('enter number:'))\n",
    "f_s=0\n",
    "for i in range(1,10):\n",
    "    if (n%i == 0):\n",
    "        f_s+=i\n",
    "        print(i,end=' ')\n",
    "        print('result'f_s)\n",
    "if (f_s==n):\n",
    "    print('perfect number')\n",
    "    "
   ]
  },
  {
   "cell_type": "code",
   "execution_count": 52,
   "metadata": {},
   "outputs": [
    {
     "name": "stdout",
     "output_type": "stream",
     "text": [
      "enter factorial number:2\n",
      "1\n",
      "2\n"
     ]
    }
   ],
   "source": [
    "n=int(input('enter factorial number:'))\n",
    "fact=1\n",
    "for i in range(1,n+1):\n",
    "    fact*=i # fact=fact*i\n",
    "    print(fact)"
   ]
  },
  {
   "cell_type": "code",
   "execution_count": 56,
   "metadata": {},
   "outputs": [
    {
     "ename": "SyntaxError",
     "evalue": "invalid syntax (<ipython-input-56-79b93ecbb3f7>, line 5)",
     "output_type": "error",
     "traceback": [
      "\u001b[1;36m  File \u001b[1;32m\"<ipython-input-56-79b93ecbb3f7>\"\u001b[1;36m, line \u001b[1;32m5\u001b[0m\n\u001b[1;33m    5.i = 1\u001b[0m\n\u001b[1;37m      ^\u001b[0m\n\u001b[1;31mSyntaxError\u001b[0m\u001b[1;31m:\u001b[0m invalid syntax\n"
     ]
    }
   ],
   "source": [
    "1. #while loop:\n",
    "2. #syntax:\n",
    "3. #while condition:\n",
    "4.      #statement"
   ]
  },
  {
   "cell_type": "code",
   "execution_count": 1,
   "metadata": {},
   "outputs": [
    {
     "name": "stdout",
     "output_type": "stream",
     "text": [
      "1\n",
      "2\n",
      "3\n",
      "4\n",
      "5\n",
      "6\n",
      "7\n",
      "8\n",
      "9\n"
     ]
    }
   ],
   "source": [
    "i = 1\n",
    "while i<10:\n",
    "    print(i)\n",
    "    i+=1"
   ]
  },
  {
   "cell_type": "code",
   "execution_count": 6,
   "metadata": {},
   "outputs": [
    {
     "name": "stdout",
     "output_type": "stream",
     "text": [
      "10   9   8   7   6   5   4   3   2   1   "
     ]
    }
   ],
   "source": [
    "for i in range(10,0,-1):\n",
    "    print(i,end='   ')"
   ]
  },
  {
   "cell_type": "code",
   "execution_count": 7,
   "metadata": {},
   "outputs": [],
   "source": [
    "i=10\n",
    "while i>10:\n",
    "    print(i,end='')\n",
    "    i-=1\n",
    "    "
   ]
  },
  {
   "cell_type": "code",
   "execution_count": 3,
   "metadata": {},
   "outputs": [
    {
     "name": "stdout",
     "output_type": "stream",
     "text": [
      "2 3 4 5 6 7 8 9 11 12 13 14 15 16 17 18 19 20 21 22 23 24 25 26 27 28 29 30 31 32 33 34 35 36 37 38 39 40 41 43 44 45 46 47 48 49 50 51 52 53 54 55 56 57 58 59 60 61 62 63 64 65 66 67 68 69 70 71 72 73 74 75 76 77 78 79 80 81 82 83 84 85 86 87 88 89 90 91 92 93 94 95 96 97 98 99 100 "
     ]
    }
   ],
   "source": [
    "i=1\n",
    "while i<100:\n",
    "    i+=1\n",
    "    if i == 42 or i == 10 or i == 1:\n",
    "         continue\n",
    "    print(i,end = ' ')"
   ]
  },
  {
   "cell_type": "markdown",
   "metadata": {},
   "source": [
    "# functions\n",
    "### block of codes to do some task\n",
    "# advantages of functions\n",
    "   ### code reusability\n",
    "   ### reduce the size of program\n",
    "   ### readability\n",
    "   ### reduce the time \n",
    "# types of functions\n",
    " ### predefinfed functions or inbuilt functions\n",
    " ### user defined functions\n",
    " ### special functions or anonymous functions\n",
    "\n",
    "    "
   ]
  },
  {
   "cell_type": "code",
   "execution_count": 5,
   "metadata": {},
   "outputs": [
    {
     "ename": "TypeError",
     "evalue": "sum() takes at most 2 arguments (3 given)",
     "output_type": "error",
     "traceback": [
      "\u001b[1;31m---------------------------------------------------------------------------\u001b[0m",
      "\u001b[1;31mTypeError\u001b[0m                                 Traceback (most recent call last)",
      "\u001b[1;32m<ipython-input-5-0fd10cb89712>\u001b[0m in \u001b[0;36m<module>\u001b[1;34m\u001b[0m\n\u001b[1;32m----> 1\u001b[1;33m \u001b[0msum\u001b[0m\u001b[1;33m(\u001b[0m\u001b[1;36m1\u001b[0m\u001b[1;33m,\u001b[0m\u001b[1;36m2\u001b[0m\u001b[1;33m,\u001b[0m\u001b[1;36m3\u001b[0m\u001b[1;33m,\u001b[0m\u001b[1;33m)\u001b[0m\u001b[1;33m\u001b[0m\u001b[1;33m\u001b[0m\u001b[0m\n\u001b[0m",
      "\u001b[1;31mTypeError\u001b[0m: sum() takes at most 2 arguments (3 given)"
     ]
    }
   ],
   "source": [
    "sum(1,2,3)"
   ]
  },
  {
   "cell_type": "markdown",
   "metadata": {},
   "source": [
    " # user defined functions\n",
    " \n",
    "## 1.create a function\n",
    "  ### function declaration \n",
    "  #### def  function name(arg):\n",
    "  ### function definition\n",
    "  #### statements\n",
    "\n",
    "\n",
    "## 2.function calling\n",
    "### by using function name we can call the function\n"
   ]
  },
  {
   "cell_type": "code",
   "execution_count": 6,
   "metadata": {},
   "outputs": [],
   "source": [
    "def add(a,b):\n",
    "    c = a+b\n",
    "    print(c)"
   ]
  },
  {
   "cell_type": "code",
   "execution_count": 7,
   "metadata": {},
   "outputs": [
    {
     "name": "stdout",
     "output_type": "stream",
     "text": [
      "9\n"
     ]
    }
   ],
   "source": [
    "add(3,6)"
   ]
  },
  {
   "cell_type": "code",
   "execution_count": 8,
   "metadata": {},
   "outputs": [],
   "source": [
    "# based on return value\n",
    "# 1.without arg and without return value\n",
    "# 2.without arg and with return value\n",
    "# 3.with arg and without return value\n",
    "# 4.with arg andd with return value\n"
   ]
  },
  {
   "cell_type": "code",
   "execution_count": 11,
   "metadata": {},
   "outputs": [
    {
     "name": "stdout",
     "output_type": "stream",
     "text": [
      "enter num1:374\n",
      "enter num2:876\n",
      "sum of 374 and 876 is: 1250\n"
     ]
    }
   ],
   "source": [
    "# 1.without arg and without return vlaue\n",
    "def add():\n",
    "    num1=int(input('enter num1:'))\n",
    "    num2=int(input('enter num2:'))\n",
    "    print('sum of',num1,'and',num2,'is:',num1+num2)\n",
    "add()"
   ]
  },
  {
   "cell_type": "code",
   "execution_count": 12,
   "metadata": {},
   "outputs": [
    {
     "data": {
      "text/plain": [
       "3"
      ]
     },
     "execution_count": 12,
     "metadata": {},
     "output_type": "execute_result"
    }
   ],
   "source": [
    "# 2.without arg and with return value\n",
    "def sub():\n",
    "    n1=10\n",
    "    n2=7\n",
    "    return n1-n2\n",
    "    print(n1+n2)\n",
    "sub()"
   ]
  },
  {
   "cell_type": "code",
   "execution_count": 13,
   "metadata": {},
   "outputs": [
    {
     "name": "stdout",
     "output_type": "stream",
     "text": [
      "enter a:6\n",
      "enter b:8\n",
      "mul of 6 and 8 is: 48\n"
     ]
    }
   ],
   "source": [
    "# 3.with arg and without return value\n",
    "def mul(a,b):\n",
    "    a=int(input('enter a:'))\n",
    "    b=int(input('enter b:'))\n",
    "    print('mul of',a,'and',b,'is:',a*b)\n",
    "mul()"
   ]
  },
  {
   "cell_type": "code",
   "execution_count": 15,
   "metadata": {},
   "outputs": [
    {
     "name": "stdout",
     "output_type": "stream",
     "text": [
      "20\n"
     ]
    }
   ],
   "source": [
    "# 3.with arg and without return value \n",
    "def mul(a,b):\n",
    "    print(a*b)\n",
    "mul(4,5)"
   ]
  },
  {
   "cell_type": "code",
   "execution_count": 20,
   "metadata": {},
   "outputs": [
    {
     "data": {
      "text/plain": [
       "(1, 9, 10, -8, 0.1111111111111111)"
      ]
     },
     "execution_count": 20,
     "metadata": {},
     "output_type": "execute_result"
    }
   ],
   "source": [
    "# with arg and with return value\n",
    " \n",
    "def div(a,b):\n",
    "    return a,b,a+b,a-b,a/b\n",
    "div(1,9)"
   ]
  },
  {
   "cell_type": "code",
   "execution_count": 21,
   "metadata": {},
   "outputs": [],
   "source": [
    "# Based on Arg\n",
    "#1.default arg\n",
    "#2.required or positional arg\n",
    "#3.variable length arg\n",
    "#4.keywords arg\n"
   ]
  },
  {
   "cell_type": "code",
   "execution_count": 24,
   "metadata": {},
   "outputs": [
    {
     "data": {
      "text/plain": [
       "110"
      ]
     },
     "execution_count": 24,
     "metadata": {},
     "output_type": "execute_result"
    }
   ],
   "source": [
    "#1.default arg:\n",
    "def default(a=10,b=20):\n",
    "    return a+b\n",
    "default(50,60)\n"
   ]
  },
  {
   "cell_type": "code",
   "execution_count": 27,
   "metadata": {},
   "outputs": [
    {
     "data": {
      "text/plain": [
       "72"
      ]
     },
     "execution_count": 27,
     "metadata": {},
     "output_type": "execute_result"
    }
   ],
   "source": [
    "#2.required arg or positional arg\n",
    "def required(a,b,c=30):\n",
    "    return a*b*c\n",
    "required(8,9,1)"
   ]
  },
  {
   "cell_type": "code",
   "execution_count": 31,
   "metadata": {},
   "outputs": [
    {
     "data": {
      "text/plain": [
       "2426184"
      ]
     },
     "execution_count": 31,
     "metadata": {},
     "output_type": "execute_result"
    }
   ],
   "source": [
    "#3.variable length arg\n",
    "def var_len(a,*b):\n",
    "    return a+sum(b)\n",
    "var_len(3,5,7,345,2334568,56689,34567)"
   ]
  },
  {
   "cell_type": "code",
   "execution_count": 35,
   "metadata": {},
   "outputs": [
    {
     "data": {
      "text/plain": [
       "31"
      ]
     },
     "execution_count": 35,
     "metadata": {},
     "output_type": "execute_result"
    }
   ],
   "source": [
    "def var_len(a,*b):\n",
    "    return a+sum(b)\n",
    "var_len(31)"
   ]
  },
  {
   "cell_type": "code",
   "execution_count": 42,
   "metadata": {},
   "outputs": [
    {
     "data": {
      "text/plain": [
       "6"
      ]
     },
     "execution_count": 42,
     "metadata": {},
     "output_type": "execute_result"
    }
   ],
   "source": [
    "# 4.keyword arg\n",
    "def keyword(a,b):\n",
    "    return a%b\n",
    "keyword(15,9)"
   ]
  },
  {
   "cell_type": "code",
   "execution_count": 48,
   "metadata": {},
   "outputs": [
    {
     "name": "stdout",
     "output_type": "stream",
     "text": [
      "hello divya welcome to PACE\n"
     ]
    }
   ],
   "source": [
    "def keyword(name,college):\n",
    "    print('hello {} welcome to {}'.format(name,college))\n",
    "keyword(name = 'divya',college = 'PACE')"
   ]
  },
  {
   "cell_type": "code",
   "execution_count": 64,
   "metadata": {},
   "outputs": [
    {
     "data": {
      "text/plain": [
       "False"
      ]
     },
     "execution_count": 64,
     "metadata": {},
     "output_type": "execute_result"
    }
   ],
   "source": [
    "def Is_Prime(n):\n",
    "    if n == 1:\n",
    "        return False\n",
    "    cnt = 0\n",
    "    for i in range(2,n):\n",
    "        if n%i == 0:\n",
    "            cnt+=1\n",
    "            break\n",
    "    if cnt == 0:\n",
    "         return True\n",
    "    else:\n",
    "         return False\n",
    "Is_Prime(6)"
   ]
  },
  {
   "cell_type": "code",
   "execution_count": 90,
   "metadata": {},
   "outputs": [
    {
     "name": "stdout",
     "output_type": "stream",
     "text": [
      "enter the value:10\n",
      "enter the value:20\n",
      "11\n",
      "13\n",
      "17\n",
      "19\n"
     ]
    }
   ],
   "source": [
    "def prime(m,n):\n",
    "    for i in range(m,n+1): \n",
    "        if Is_Prime(i):\n",
    "            print(i)\n",
    "m=int(input('enter the value:'))\n",
    "n=int(input('enter the value:'))\n",
    "prime(m,n)\n"
   ]
  },
  {
   "cell_type": "code",
   "execution_count": 92,
   "metadata": {},
   "outputs": [
    {
     "ename": "SyntaxError",
     "evalue": "unexpected EOF while parsing (<ipython-input-92-765c3d3f97e8>, line 3)",
     "output_type": "error",
     "traceback": [
      "\u001b[1;36m  File \u001b[1;32m\"<ipython-input-92-765c3d3f97e8>\"\u001b[1;36m, line \u001b[1;32m3\u001b[0m\n\u001b[1;33m    if Is_Prime(i):\u001b[0m\n\u001b[1;37m                   ^\u001b[0m\n\u001b[1;31mSyntaxError\u001b[0m\u001b[1;31m:\u001b[0m unexpected EOF while parsing\n"
     ]
    }
   ],
   "source": [
    "def perfect(a,b):\n",
    "    for i in range(a,b):\n",
    "        if Is_Prime(i):\n",
    "            or\n",
    "            "
   ]
  },
  {
   "cell_type": "code",
   "execution_count": null,
   "metadata": {},
   "outputs": [],
   "source": []
  }
 ],
 "metadata": {
  "kernelspec": {
   "display_name": "Python 3",
   "language": "python",
   "name": "python3"
  },
  "language_info": {
   "codemirror_mode": {
    "name": "ipython",
    "version": 3
   },
   "file_extension": ".py",
   "mimetype": "text/x-python",
   "name": "python",
   "nbconvert_exporter": "python",
   "pygments_lexer": "ipython3",
   "version": "3.8.5"
  }
 },
 "nbformat": 4,
 "nbformat_minor": 4
}
